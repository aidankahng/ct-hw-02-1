{
 "cells": [
  {
   "cell_type": "markdown",
   "id": "8cb68045",
   "metadata": {},
   "source": [
    "# Exercise 1: Print Cubes"
   ]
  },
  {
   "cell_type": "code",
   "execution_count": 1,
   "id": "58a17dc2",
   "metadata": {},
   "outputs": [
    {
     "name": "stdout",
     "output_type": "stream",
     "text": [
      "1\n",
      "8\n",
      "27\n",
      "64\n",
      "125\n",
      "216\n",
      "343\n",
      "512\n",
      "729\n"
     ]
    }
   ],
   "source": [
    "def printcubes(limit=1000):\n",
    "    base = 1\n",
    "    cube = 1\n",
    "    while cube < limit:\n",
    "        print(cube)\n",
    "        base += 1\n",
    "        cube = pow(base,3)\n",
    "printcubes()"
   ]
  },
  {
   "cell_type": "markdown",
   "id": "c76ec924",
   "metadata": {},
   "source": [
    "# Exercise 2: Print Primes"
   ]
  },
  {
   "cell_type": "code",
   "execution_count": 2,
   "id": "505739d9",
   "metadata": {},
   "outputs": [
    {
     "name": "stdout",
     "output_type": "stream",
     "text": [
      "[2, 3, 5, 7, 11, 13, 17, 19, 23, 29, 31, 37, 41, 43, 47, 53, 59, 61, 67, 71, 73, 79, 83, 89, 97]\n"
     ]
    }
   ],
   "source": [
    "def printprimes(limit=100):\n",
    "    curr_primes = []\n",
    "    for i in range(2, limit):\n",
    "        is_prime = True\n",
    "        for p in curr_primes:\n",
    "            if i % p == 0:\n",
    "                is_prime = False\n",
    "        if is_prime:\n",
    "            curr_primes.append(i)\n",
    "    print(curr_primes)\n",
    "\n",
    "printprimes()"
   ]
  },
  {
   "cell_type": "markdown",
   "id": "08ebe69c",
   "metadata": {},
   "source": [
    "# Exercise 3: Get Age"
   ]
  },
  {
   "cell_type": "code",
   "execution_count": 3,
   "id": "03a7456d",
   "metadata": {},
   "outputs": [
    {
     "name": "stdout",
     "output_type": "stream",
     "text": [
      "Input a valid age: 22\n"
     ]
    },
    {
     "data": {
      "text/plain": [
       "'You are an adult'"
      ]
     },
     "execution_count": 3,
     "metadata": {},
     "output_type": "execute_result"
    }
   ],
   "source": [
    "def getage(age_str=\"\"):\n",
    "    if age_str.isdigit():\n",
    "        age = int(age_str)\n",
    "        if age < 18:\n",
    "            return \"You are under 18\"\n",
    "        elif age < 65:\n",
    "            return \"You are an adult\"\n",
    "        else:\n",
    "            return \"You are a senior\"\n",
    "    else:\n",
    "        return getage(input(\"Input a valid age: \"))\n",
    "\n",
    "getage()"
   ]
  },
  {
   "cell_type": "code",
   "execution_count": null,
   "id": "b197d509",
   "metadata": {},
   "outputs": [],
   "source": []
  }
 ],
 "metadata": {
  "kernelspec": {
   "display_name": "Python 3 (ipykernel)",
   "language": "python",
   "name": "python3"
  },
  "language_info": {
   "codemirror_mode": {
    "name": "ipython",
    "version": 3
   },
   "file_extension": ".py",
   "mimetype": "text/x-python",
   "name": "python",
   "nbconvert_exporter": "python",
   "pygments_lexer": "ipython3",
   "version": "3.11.5"
  }
 },
 "nbformat": 4,
 "nbformat_minor": 5
}
